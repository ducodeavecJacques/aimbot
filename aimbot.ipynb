{
 "cells": [
  {
   "cell_type": "code",
   "execution_count": 3,
   "metadata": {},
   "outputs": [
    {
     "ename": "error",
     "evalue": "OpenCV(4.7.0) :-1: error: (-5:Bad argument) in function 'cvtColor'\n> Overload resolution failed:\n>  - src data type = 19 is not supported\n>  - Expected Ptr<cv::UMat> for argument 'src'\n",
     "output_type": "error",
     "traceback": [
      "\u001b[1;31m---------------------------------------------------------------------------\u001b[0m",
      "\u001b[1;31merror\u001b[0m                                     Traceback (most recent call last)",
      "Cell \u001b[1;32mIn [3], line 49\u001b[0m\n\u001b[0;32m     47\u001b[0m \u001b[38;5;28;01mwith\u001b[39;00m mss\u001b[38;5;241m.\u001b[39mmss() \u001b[38;5;28;01mas\u001b[39;00m sct:\n\u001b[0;32m     48\u001b[0m     \u001b[38;5;28;01mwhile\u001b[39;00m \u001b[38;5;28;01mTrue\u001b[39;00m:\n\u001b[1;32m---> 49\u001b[0m         img \u001b[38;5;241m=\u001b[39m \u001b[43mcv2\u001b[49m\u001b[38;5;241;43m.\u001b[39;49m\u001b[43mcvtColor\u001b[49m\u001b[43m(\u001b[49m\u001b[43mnp\u001b[49m\u001b[38;5;241;43m.\u001b[39;49m\u001b[43marray\u001b[49m\u001b[43m(\u001b[49m\u001b[43msct\u001b[49m\u001b[38;5;241;43m.\u001b[39;49m\u001b[43mshot\u001b[49m\u001b[43m(\u001b[49m\u001b[43m)\u001b[49m\u001b[43m)\u001b[49m\u001b[43m,\u001b[49m\u001b[43m \u001b[49m\u001b[43mcv2\u001b[49m\u001b[38;5;241;43m.\u001b[39;49m\u001b[43mCOLOR_BGR2RGB\u001b[49m\u001b[43m)\u001b[49m\n\u001b[0;32m     51\u001b[0m         bob \u001b[38;5;241m=\u001b[39m cv2\u001b[38;5;241m.\u001b[39mdnn\u001b[38;5;241m.\u001b[39mbobFromImage(img, \u001b[38;5;241m0.00392\u001b[39m, (\u001b[38;5;241m416\u001b[39m, \u001b[38;5;241m416\u001b[39m), (\u001b[38;5;241m0\u001b[39m, \u001b[38;5;241m0\u001b[39m, \u001b[38;5;241m0\u001b[39m), \u001b[38;5;28;01mTrue\u001b[39;00m, crop\u001b[38;5;241m=\u001b[39m\u001b[38;5;28;01mFalse\u001b[39;00m)\n\u001b[0;32m     52\u001b[0m         net\u001b[38;5;241m.\u001b[39msetInput(bob)\n",
      "\u001b[1;31merror\u001b[0m: OpenCV(4.7.0) :-1: error: (-5:Bad argument) in function 'cvtColor'\n> Overload resolution failed:\n>  - src data type = 19 is not supported\n>  - Expected Ptr<cv::UMat> for argument 'src'\n"
     ]
    }
   ],
   "source": [
    "import cv2\n",
    "import numpy as np\n",
    "import mss\n",
    "import ctypes\n",
    "from ctypes import wintypes\n",
    "    \n",
    "INPUT_MOUSE = 0\n",
    "MOUSEEVENTF_MOVE = 0x0001\n",
    "MOUSEEVENTF_LEFTDOWN = 0x0002\n",
    "MOUSEEVENTF_LEFTUP = 0x0004\n",
    "    #structure de l'api\n",
    "class Input(ctypes.Structure):\n",
    "    _fields_ = [(\"type\", wintypes.DWORD),\n",
    "                (\"mi\", ctypes.c_ulong)]\n",
    "class MouseInput(ctypes.Structure):\n",
    "    _fields_ = [(\"dx\", wintypes.LONG),\n",
    "                (\"dy\", wintypes.LONG),\n",
    "                (\"mouseData\", wintypes.DWORD),\n",
    "                (\"dwFlags\", wintypes.DWORD),\n",
    "                (\"time\", wintypes.DWORD),\n",
    "                (\"dwExtraInfo\", wintypes.ULONG)]\n",
    "    #utilisation de l'api windobe pour faire une fausse entrer\n",
    "def send_input(inputs):\n",
    "    nInputs = len(inputs)\n",
    "    size_input = ctypes.sizeof(Input)\n",
    "    arr_inputs = Input * nInputs\n",
    "    pInputs = arr_inputs(*inputs)\n",
    "    cb_size = ctypes.c_int(ctypes.sizeof(pInputs))\n",
    "    ctypes.windll.user32.SendInput(nInputs, ctypes.byref(pInputs), cb_size)\n",
    "    #deplacement de sourie avec x et y\n",
    "def move_mouse(dx, dy):\n",
    "    inputs = []\n",
    "    mi = MouseInput(dx, dy, 0, MOUSEEVENTF_MOVE, 0, ctypes.cast(None, wintypes.LPVOID))\n",
    "    inputs.append(Input(INPUT_MOUSE, mi))\n",
    "    send_input(inputs)\n",
    "    click_left()\n",
    "    #faux click gauche\n",
    "def click_left():\n",
    "    inputs = []\n",
    "    mi_down = MouseInput(0, 0, 0, MOUSEEVENTF_LEFTDOWN, 0, None)\n",
    "    mi_up = MouseInput(0, 0, 0, MOUSEEVENTF_LEFTUP, 0, None)\n",
    "    inputs.append(Input(INPUT_MOUSE, mi_down))\n",
    "    inputs.append(Input(INPUT_MOUSE, mi_up))\n",
    "    send_input(inputs)\n",
    "    #pour mon yolo<3\n",
    "net = cv2.dnn.readnet(\"yolov4-tiny-custom_best.weights\", \"yolov4-tiny-custom.cfg\")\n",
    "with mss.mss() as sct:\n",
    "    while True:\n",
    "        img = cv2.cvtcolor(np.array(sct.shot()), cv2.COLOR_BGR2RGB)\n",
    "        bob = cv2.dnn.bobfromimage(img, 0.00392, (416, 416), (0, 0, 0), True, crop=False)\n",
    "        net.setInput(bob)\n",
    "        outs = net.forward(net.getunconnectedoutlayersnames())\n",
    "        for out in outs:\n",
    "            for detection in out:\n",
    "                scores = detection[5:]\n",
    "                class_id = np.argmax(scores)\n",
    "                confidence = scores[class_id]\n",
    "                if confidence > 0.5:\n",
    "                    center_x = int(detection[0] * img.shape[1])\n",
    "                    center_y = int(detection[1] * img.shape[0])\n",
    "                    w = int(detection[2] * img.shape[1])\n",
    "                    h = int(detection[3] * img.shape[0])\n",
    "                    x = int(center_x - w / 2)\n",
    "                    y = int(center_y - h / 2)\n",
    "                    move_mouse(x, y)\n"
   ]
  }
 ],
 "metadata": {
  "kernelspec": {
   "display_name": "Python 3",
   "language": "python",
   "name": "python3"
  },
  "language_info": {
   "codemirror_mode": {
    "name": "ipython",
    "version": 3
   },
   "file_extension": ".py",
   "mimetype": "text/x-python",
   "name": "python",
   "nbconvert_exporter": "python",
   "pygments_lexer": "ipython3",
   "version": "3.10.11"
  }
 },
 "nbformat": 4,
 "nbformat_minor": 2
}
